{
  "nbformat": 4,
  "nbformat_minor": 0,
  "metadata": {
    "colab": {
      "provenance": [],
      "authorship_tag": "ABX9TyNtCLEsVqZ8QKEDwIV+2ue+",
      "include_colab_link": true
    },
    "kernelspec": {
      "name": "python3",
      "display_name": "Python 3"
    },
    "language_info": {
      "name": "python"
    }
  },
  "cells": [
    {
      "cell_type": "markdown",
      "metadata": {
        "id": "view-in-github",
        "colab_type": "text"
      },
      "source": [
        "<a href=\"https://colab.research.google.com/github/2024S2-ML/.github/blob/main/ExemploClassFilmes.ipynb\" target=\"_parent\"><img src=\"https://colab.research.google.com/assets/colab-badge.svg\" alt=\"Open In Colab\"/></a>"
      ]
    },
    {
      "cell_type": "code",
      "execution_count": 2,
      "metadata": {
        "colab": {
          "base_uri": "https://localhost:8080/"
        },
        "id": "-ZbytJtgt0Rw",
        "outputId": "396abf3b-d927-49e6-de67-cd4127c63e57"
      },
      "outputs": [
        {
          "output_type": "stream",
          "name": "stdout",
          "text": [
            "Accuracy of SVM: 0.815\n"
          ]
        }
      ],
      "source": [
        "# Import necessary libraries\n",
        "from sklearn import svm\n",
        "from sklearn import datasets\n",
        "from sklearn.model_selection import train_test_split # divide os dados em teste e treino\n",
        "from sklearn.feature_extraction.text import TfidfVectorizer # converte texto para dados numéricos\n",
        "from sklearn.metrics import accuracy_score # usa pra comparação dos dados\n",
        "import pandas as pd\n",
        "\n",
        "df = pd.read_csv('IMDB Dataset.csv', nrows=1000)\n",
        "\n",
        "# # X é a review, que é o objeto de estudo\n",
        "X = df['review']\n",
        "# # y é o tipo de classificação, que é o que estamos tentando prever\n",
        "y = df['sentiment']\n",
        "\n",
        "# ele pega o dataframe e divide em partes de treino e teste (20% teste)\n",
        "X_train, X_test, y_train, y_test = train_test_split(X, y, test_size=0.2, random_state=42)\n",
        "\n",
        "# Create a TfidfVectorizer to convert text data to numerical features\n",
        "vectorizer = TfidfVectorizer()\n",
        "\n",
        "# Fit the vectorizer to the training data and transform both training and testing data\n",
        "# converte string para númerico\n",
        "X_train_vec = vectorizer.fit_transform(X_train)\n",
        "X_test_vec = vectorizer.transform(X_test)\n",
        "\n",
        "# Fit the SVM model\n",
        "# Seleciona o modelo kernel linear\n",
        "model = svm.SVC(kernel='linear')\n",
        "# Treina com os dados\n",
        "model.fit(X_train_vec, y_train)\n",
        "\n",
        "# Predict using the SVM model\n",
        "# Faz as previsões dos dados com os dados de teste\n",
        "predictions = model.predict(X_test_vec)\n",
        "\n",
        "# verifica os dados preditos em comparação com os dados 'y' de teste\n",
        "accuracy = accuracy_score(predictions, y_test)\n",
        "print(\"Accuracy of SVM:\", accuracy)"
      ]
    }
  ]
}