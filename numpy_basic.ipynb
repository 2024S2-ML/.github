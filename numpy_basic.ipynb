{
  "nbformat": 4,
  "nbformat_minor": 0,
  "metadata": {
    "colab": {
      "provenance": [],
      "authorship_tag": "ABX9TyMDCfIMeh4/NEo4DQylNeur",
      "include_colab_link": true
    },
    "kernelspec": {
      "name": "python3",
      "display_name": "Python 3"
    },
    "language_info": {
      "name": "python"
    }
  },
  "cells": [
    {
      "cell_type": "markdown",
      "metadata": {
        "id": "view-in-github",
        "colab_type": "text"
      },
      "source": [
        "<a href=\"https://colab.research.google.com/github/2024S2-ML/.github/blob/main/numpy_basic.ipynb\" target=\"_parent\"><img src=\"https://colab.research.google.com/assets/colab-badge.svg\" alt=\"Open In Colab\"/></a>"
      ]
    },
    {
      "cell_type": "code",
      "execution_count": 1,
      "metadata": {
        "colab": {
          "base_uri": "https://localhost:8080/"
        },
        "id": "XoVc43Yo6DoD",
        "outputId": "9455471a-5f3b-422e-d60b-21dc0740e4b8"
      },
      "outputs": [
        {
          "output_type": "stream",
          "name": "stdout",
          "text": [
            "Array 1D: [1 2 3 4 5]\n",
            "Array 2D:\n",
            " [[1 2 3]\n",
            " [4 5 6]]\n"
          ]
        }
      ],
      "source": [
        "import numpy as np\n",
        "\n",
        "# Criando um array 1D\n",
        "array_1d = np.array([1, 2, 3, 4, 5])\n",
        "print(\"Array 1D:\", array_1d)\n",
        "\n",
        "# Criando um array 2D\n",
        "array_2d = np.array([[1, 2, 3], [4, 5, 6]])\n",
        "print(\"Array 2D:\\n\", array_2d)\n"
      ]
    },
    {
      "cell_type": "code",
      "source": [
        "# Array de zeros\n",
        "zeros = np.zeros((2, 3))\n",
        "print(\"Array de zeros:\\n\", zeros)\n",
        "\n",
        "# Array de uns\n",
        "ones = np.ones((3, 2))\n",
        "print(\"Array de uns:\\n\", ones)\n",
        "\n",
        "# Array com valores aleatórios\n",
        "random_array = np.random.random((2, 2))\n",
        "print(\"Array aleatório:\\n\", random_array)\n",
        "\n",
        "# Array de uma sequência de números\n",
        "sequence = np.arange(10)\n",
        "print(\"Array de sequência:\", sequence)\n",
        "\n",
        "# Array de uma sequência com intervalo\n",
        "sequence_with_step = np.arange(0, 10, 2)\n",
        "print(\"Array de sequência com intervalo:\", sequence_with_step)\n",
        "\n",
        "# Array de uma sequência com intervalo especificado\n",
        "linspace_array = np.linspace(0, 1, 5)\n",
        "print(\"Array de linspace:\", linspace_array)\n"
      ],
      "metadata": {
        "id": "uY4Vvp3U6ReF"
      },
      "execution_count": null,
      "outputs": []
    },
    {
      "cell_type": "code",
      "source": [
        "a = np.array([1, 2, 3, 4])\n",
        "b = np.array([10, 20, 30, 40])\n",
        "\n",
        "# Adição\n",
        "print(\"Soma:\", a + b)\n",
        "\n",
        "# Subtração\n",
        "print(\"Subtração:\", a - b)\n",
        "\n",
        "# Multiplicação\n",
        "print(\"Multiplicação:\", a * b)\n",
        "\n",
        "# Divisão\n",
        "print(\"Divisão:\", a / b)\n"
      ],
      "metadata": {
        "id": "0q-_RS936XcE"
      },
      "execution_count": null,
      "outputs": []
    },
    {
      "cell_type": "code",
      "source": [
        "# Raiz quadrada\n",
        "print(\"Raiz quadrada:\", np.sqrt(a))\n",
        "\n",
        "# Seno\n",
        "print(\"Seno:\", np.sin(a))\n",
        "\n",
        "# Logaritmo\n",
        "print(\"Logaritmo:\", np.log(a))\n"
      ],
      "metadata": {
        "id": "xMtNgfw26Z12"
      },
      "execution_count": null,
      "outputs": []
    },
    {
      "cell_type": "code",
      "source": [
        "# Redimensionar um array\n",
        "array = np.array([[1, 2, 3], [4, 5, 6]])\n",
        "reshaped_array = array.reshape((3, 2))\n",
        "print(\"Array redimensionado:\\n\", reshaped_array)\n"
      ],
      "metadata": {
        "id": "JMauRMn_6bxu"
      },
      "execution_count": null,
      "outputs": []
    },
    {
      "cell_type": "code",
      "source": [
        "array1 = np.array([[1, 2], [3, 4]])\n",
        "array2 = np.array([[5, 6]])\n",
        "\n",
        "# Concatenar arrays ao longo do eixo 0\n",
        "concatenated = np.concatenate((array1, array2), axis=0)\n",
        "print(\"Array concatenado ao longo do eixo 0:\\n\", concatenated)\n"
      ],
      "metadata": {
        "id": "LzgsGp-v6dQa"
      },
      "execution_count": null,
      "outputs": []
    },
    {
      "cell_type": "code",
      "source": [
        "# Dividir um array em sub-arrays\n",
        "array = np.array([1, 2, 3, 4, 5, 6])\n",
        "split_array = np.split(array, 3)\n",
        "print(\"Array dividido:\", split_array)\n"
      ],
      "metadata": {
        "id": "9H5xpxGB6gPT"
      },
      "execution_count": null,
      "outputs": []
    },
    {
      "cell_type": "code",
      "source": [
        "array = np.array([1, 2, 3, 4, 5])\n",
        "\n",
        "# Acessar o primeiro elemento\n",
        "print(\"Primeiro elemento:\", array[0])\n",
        "\n",
        "# Acessar o último elemento\n",
        "print(\"Último elemento:\", array[-1])\n"
      ],
      "metadata": {
        "id": "gIPGsjMt6mMX"
      },
      "execution_count": null,
      "outputs": []
    },
    {
      "cell_type": "code",
      "source": [
        "array = np.array([1, 2, 3, 4, 5])\n",
        "\n",
        "# Acessar os três primeiros elementos\n",
        "print(\"Três primeiros elementos:\", array[:3])\n",
        "\n",
        "# Acessar os três últimos elementos\n",
        "print(\"Três últimos elementos:\", array[-3:])\n"
      ],
      "metadata": {
        "id": "P6s54L6y6nHb"
      },
      "execution_count": null,
      "outputs": []
    }
  ]
}